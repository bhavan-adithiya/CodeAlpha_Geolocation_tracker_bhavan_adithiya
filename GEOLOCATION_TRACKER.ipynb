{
  "nbformat": 4,
  "nbformat_minor": 0,
  "metadata": {
    "colab": {
      "provenance": [],
      "name": "GEOLOCATION_TRACKER.ipynb",
      "authorship_tag": "ABX9TyPIbbGSo4KZueR3P2Skk3YQ",
      "include_colab_link": true
    },
    "kernelspec": {
      "name": "python3",
      "display_name": "Python 3"
    },
    "language_info": {
      "name": "python"
    }
  },
  "cells": [
    {
      "cell_type": "markdown",
      "metadata": {
        "id": "view-in-github",
        "colab_type": "text"
      },
      "source": [
        "<a href=\"https://colab.research.google.com/github/bhavan-adithiya/CodeAlpha_Geolocation_tracker_bhavan_adithiya/blob/main/GEOLOCATION_TRACKER.ipynb\" target=\"_parent\"><img src=\"https://colab.research.google.com/assets/colab-badge.svg\" alt=\"Open In Colab\"/></a>"
      ]
    },
    {
      "cell_type": "code",
      "source": [
        "pip install requests folium\n"
      ],
      "metadata": {
        "colab": {
          "base_uri": "https://localhost:8080/"
        },
        "id": "ut5arLbG-0M7",
        "outputId": "af2b69a5-6bb2-48f8-8773-cbbc1a6ec25a"
      },
      "execution_count": null,
      "outputs": [
        {
          "output_type": "stream",
          "name": "stdout",
          "text": [
            "Requirement already satisfied: requests in /usr/local/lib/python3.10/dist-packages (2.31.0)\n",
            "Requirement already satisfied: folium in /usr/local/lib/python3.10/dist-packages (0.17.0)\n",
            "Requirement already satisfied: charset-normalizer<4,>=2 in /usr/local/lib/python3.10/dist-packages (from requests) (3.3.2)\n",
            "Requirement already satisfied: idna<4,>=2.5 in /usr/local/lib/python3.10/dist-packages (from requests) (3.7)\n",
            "Requirement already satisfied: urllib3<3,>=1.21.1 in /usr/local/lib/python3.10/dist-packages (from requests) (2.0.7)\n",
            "Requirement already satisfied: certifi>=2017.4.17 in /usr/local/lib/python3.10/dist-packages (from requests) (2024.7.4)\n",
            "Requirement already satisfied: branca>=0.6.0 in /usr/local/lib/python3.10/dist-packages (from folium) (0.7.2)\n",
            "Requirement already satisfied: jinja2>=2.9 in /usr/local/lib/python3.10/dist-packages (from folium) (3.1.4)\n",
            "Requirement already satisfied: numpy in /usr/local/lib/python3.10/dist-packages (from folium) (1.26.4)\n",
            "Requirement already satisfied: xyzservices in /usr/local/lib/python3.10/dist-packages (from folium) (2024.6.0)\n",
            "Requirement already satisfied: MarkupSafe>=2.0 in /usr/local/lib/python3.10/dist-packages (from jinja2>=2.9->folium) (2.1.5)\n"
          ]
        }
      ]
    },
    {
      "cell_type": "code",
      "source": [
        "import requests\n",
        "import folium\n",
        "\n",
        "def get_geolocation(ip_address):\n",
        "    response = requests.get(f\"http://ipinfo.io/{ip_address}/json\")\n",
        "    data = response.json()\n",
        "    location = data['loc'].split(',')\n",
        "    latitude = float(location[0])\n",
        "    longitude = float(location[1])\n",
        "    return latitude, longitude\n",
        "\n",
        "def create_map(latitude, longitude):\n",
        "    map = folium.Map(location=[latitude, longitude], zoom_start=12)\n",
        "    folium.Marker([latitude, longitude], popup=\"Location\").add_to(map)\n",
        "    return map\n",
        "\n",
        "def main(ip_address):\n",
        "    latitude, longitude = get_geolocation(ip_address)\n",
        "    map = create_map(latitude, longitude)\n",
        "    map.save(\"geolocation_map.html\")\n",
        "    print(\"Map has been saved as geolocation_map.html\")\n",
        "\n",
        "if __name__ == \"__main__\":\n",
        "    # Example IP address\n",
        "    ip_address = \"8.8.8.8\"\n",
        "    main(ip_address)\n"
      ],
      "metadata": {
        "colab": {
          "base_uri": "https://localhost:8080/"
        },
        "id": "s6s8CG3U-mMy",
        "outputId": "bcc67150-95a9-48dc-84de-c12bd4daaefc"
      },
      "execution_count": null,
      "outputs": [
        {
          "output_type": "stream",
          "name": "stdout",
          "text": [
            "Map has been saved as geolocation_map.html\n"
          ]
        }
      ]
    }
  ]
}